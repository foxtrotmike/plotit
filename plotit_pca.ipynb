{
  "nbformat": 4,
  "nbformat_minor": 0,
  "metadata": {
    "colab": {
      "name": "plotit_pca.ipynb",
      "provenance": [],
      "authorship_tag": "ABX9TyNTJ05x7BBB/LE3fDIMidWN",
      "include_colab_link": true
    },
    "kernelspec": {
      "name": "python3",
      "display_name": "Python 3"
    }
  },
  "cells": [
    {
      "cell_type": "markdown",
      "metadata": {
        "id": "view-in-github",
        "colab_type": "text"
      },
      "source": [
        "<a href=\"https://colab.research.google.com/github/foxtrotmike/plotit/blob/master/plotit_pca.ipynb\" target=\"_parent\"><img src=\"https://colab.research.google.com/assets/colab-badge.svg\" alt=\"Open In Colab\"/></a>"
      ]
    },
    {
      "cell_type": "code",
      "metadata": {
        "colab": {
          "base_uri": "https://localhost:8080/",
          "height": 302
        },
        "id": "pLPeiARg-pko",
        "outputId": "b0ca734d-8218-441f-a75d-f051d57d2f88"
      },
      "source": [
        "# -*- coding: utf-8 -*-\r\n",
        "\"\"\"\r\n",
        "@author: Dr. Fayyaz Minhas\r\n",
        "2D Scatter Plotter for Classification\r\n",
        "\"\"\"\r\n",
        "from numpy.random import randn #importing randn\r\n",
        "import numpy as np #importing numpy\r\n",
        "import matplotlib.pyplot as plt #importing plotting module\r\n",
        "import itertools\r\n",
        "import warnings\r\n",
        "\r\n",
        "def plotit(X,Y=None,clf=None,  conts = None, ccolors = ('b','k','r'), colors = ('c','y'), markers = ('s','o'), hold = False, transform = None,extent = None,**kwargs):\r\n",
        "    \"\"\"\r\n",
        "    A function for showing data scatter plot and classification boundary\r\n",
        "    of a classifier for 2D data\r\n",
        "        X: nxd  matrix of data points\r\n",
        "        Y: (optional) n vector of class labels\r\n",
        "        clf: (optional) classification/discriminant function handle\r\n",
        "        conts: (optional) contours (if None, contours are drawn for each class boundary)\r\n",
        "        ccolors: (optional) colors for contours   \r\n",
        "        colors: (optional) colors for each class (sorted wrt class id)\r\n",
        "            can be 'scaled' or 'random' or a list/tuple of color ids\r\n",
        "        markers: (optional) markers for each class (sorted wrt class id)\r\n",
        "        hold: Whether to hold the plot or not for overlay (default: False).\r\n",
        "        transform: (optional) a function handle for transforming data before passing to clf\r\n",
        "        kwargs: any keyword arguments to be passed to clf (if any)        \r\n",
        "    \"\"\"\r\n",
        "    if clf is not None and X.shape[1]!=2:\r\n",
        "        warnings.warn(\"Data Dimensionality is not 2. Unable to plot.\")\r\n",
        "        return\r\n",
        "    if markers is None:\r\n",
        "        markers = ('.',)\r\n",
        "    eps=1e-6\r\n",
        "    d0,d1 = (0,1)\r\n",
        "    if extent is None:\r\n",
        "        minx, maxx = np.min(X[:,d0])-eps, np.max(X[:,d0])+eps\r\n",
        "        miny, maxy = np.min(X[:,d1])-eps, np.max(X[:,d1])+eps\r\n",
        "        extent = [minx,maxx,miny,maxy]\r\n",
        "    else:\r\n",
        "        [minx,maxx,miny,maxy] = extent\r\n",
        "    if Y is not None:\r\n",
        "        classes = sorted(set(Y))\r\n",
        "        if conts is None:\r\n",
        "            conts = list(classes)        \r\n",
        "        vmin,vmax = classes[0]-eps,classes[-1]+eps\r\n",
        "    else:\r\n",
        "        vmin,vmax=-2-eps,2+eps\r\n",
        "        if conts is None:            \r\n",
        "            conts = sorted([-1+eps,0,1-eps])\r\n",
        "        \r\n",
        "    if clf is not None:\r\n",
        "        npts = 150\r\n",
        "        x = np.linspace(minx,maxx,npts)\r\n",
        "        y = np.linspace(miny,maxy,npts)\r\n",
        "        t = np.array(list(itertools.product(x,y)))\r\n",
        "        if transform is not None:\r\n",
        "            t = transform(t)\r\n",
        "        z = clf(t,**kwargs)\r\n",
        "        \r\n",
        "        z = np.reshape(z,(npts,npts)).T        \r\n",
        "        \r\n",
        "        \r\n",
        "        plt.contour(x,y,z,conts,linewidths = [2],colors=ccolors,extent=extent, label='f(x)=0')\r\n",
        "        #plt.imshow(np.flipud(z), extent = extent, cmap=plt.cm.Purples, vmin = -2, vmax = +2); plt.colorbar()\r\n",
        "        plt.pcolormesh(x, y, z,cmap=plt.cm.Purples,vmin=vmin,vmax=vmax);plt.colorbar()\r\n",
        "        plt.axis(extent)\r\n",
        "    \r\n",
        "    if Y is not None:        \r\n",
        "        for i,y in enumerate(classes):\r\n",
        "            if colors is None or colors=='scaled':\r\n",
        "                cc = np.array([[i,i,i]])/float(len(classes))\r\n",
        "            elif colors =='random':\r\n",
        "                cc = np.array([[np.random.rand(),np.random.rand(),np.random.rand()]])\r\n",
        "            else:\r\n",
        "                cc = colors[i%len(colors)]\r\n",
        "            mm = markers[i%len(markers)]\r\n",
        "            plt.scatter(X[Y==y,d0],X[Y==y,d1], marker = mm,c = cc, s = 30)     \r\n",
        "         \r\n",
        "    else:\r\n",
        "        plt.scatter(X[:,d0],X[:,d1],marker = markers[0], c = 'k', s = 5)\r\n",
        "    plt.xlabel('$x_1$')\r\n",
        "    plt.ylabel('$x_2$')   \r\n",
        "    if not hold:\r\n",
        "        plt.grid()        \r\n",
        "        plt.show()\r\n",
        "    return extent\r\n",
        "\r\n",
        "def getExamples(n=100,d=2):\r\n",
        "    \"\"\"\r\n",
        "    Generates n d-dimensional normally distributed examples of each class        \r\n",
        "    The mean of the positive class is [1] and for the negative class it is [-1]\r\n",
        "    \"\"\"\r\n",
        "    Xp = randn(n,d)#+1   #generate n examples of the positie class\r\n",
        "    Xp=Xp+1\r\n",
        "    Xn = randn(n,d)#-1   #generate n examples of the negative class\r\n",
        "    Xn=Xn-1\r\n",
        "    X = np.vstack((Xp,Xn))  #Stack the examples together to a single matrix\r\n",
        "    Y = np.array([+1]*n+[-1]*n) #Associate Labels\r\n",
        "    return (X,Y) \r\n",
        "       \r\n",
        "        \r\n",
        "if __name__ == '__main__':\r\n",
        "    d = 4\r\n",
        "    X,Y = getExamples(d=d)\r\n",
        "    from sklearn.decomposition import PCA \r\n",
        "    pca = PCA(n_components=2).fit(X)     \r\n",
        "    X2 = pca.transform(X) #let's use PCA to reduce dimensionality to 2\r\n",
        "    transform = pca.inverse_transform\r\n",
        "    def clf(x):\r\n",
        "      \"\"\"\r\n",
        "      Input: Nxd numpy matrix of examples x for generating a prediction score\r\n",
        "      for each example\r\n",
        "\r\n",
        "      Return: N-dimensional vector of prediction scores (one for each example)\r\n",
        "      \"\"\"\r\n",
        "      assert x.shape[1]==d      \r\n",
        "      return 2*np.sum(x,axis=1)-2.5\r\n",
        "\r\n",
        "    #clf = lambda x: 2*np.sum(x,axis=1)-2.5 #dummy classifier\r\n",
        "    # note below that we pass 2D data in X2. It automatically uses the inverse transform\r\n",
        "    plotit(X = X2, Y = Y, clf = clf, conts =[-1,0,1], colors = 'random', transform = transform)\r\n"
      ],
      "execution_count": 1,
      "outputs": [
        {
          "output_type": "stream",
          "text": [
            "/usr/local/lib/python3.7/dist-packages/ipykernel_launcher.py:63: UserWarning: The following kwargs were not used by contour: 'label'\n"
          ],
          "name": "stderr"
        },
        {
          "output_type": "display_data",
          "data": {
            "image/png": "[encoded data removed]",
            "text/plain": [
              "<Figure size 432x288 with 2 Axes>"
            ]
          },
          "metadata": {
            "tags": [],
            "needs_background": "light"
          }
        }
      ]
    }
  ]
}